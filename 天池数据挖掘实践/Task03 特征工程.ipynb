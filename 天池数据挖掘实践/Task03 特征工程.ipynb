{
 "cells": [
  {
   "cell_type": "markdown",
   "metadata": {},
   "source": [
    "# Datawhale 零基础入门数据挖掘-Task3 特征工程\n",
    "\n",
    "## 三、 特征工程目标\n",
    "\n",
    "\n",
    "**赛题：零基础入门数据挖掘 - 二手车交易价格预测**\n",
    "\n",
    "地址：https://tianchi.aliyun.com/competition/entrance/231784/introduction?spm=5176.12281957.1004.1.38b02448ausjSX "
   ]
  },
  {
   "cell_type": "markdown",
   "metadata": {},
   "source": [
    "## 3.1 特征工程目标\n",
    "\n",
    "* 对于特征进行进一步分析，并对于数据进行处理\n",
    "\n",
    "* 完成对于特征工程的分析，并对于数据进行一些图表或者文字总结并打卡。"
   ]
  },
  {
   "cell_type": "markdown",
   "metadata": {},
   "source": [
    "## 3.2  内容介绍\n",
    "常见的特征工程包括：\n",
    "1. 异常处理：\n",
    "    - 通过箱线图（或 3-Sigma）分析删除异常值；\n",
    "    - BOX-COX 转换（处理有偏分布）；\n",
    "    - 长尾截断；\n",
    "2. 特征归一化/标准化：\n",
    "    - 标准化（转换为标准正态分布）；\n",
    "    - 归一化（抓换到 [0,1] 区间）；\n",
    "    - 针对幂律分布，可以采用公式： $log(\\frac{1+x}{1+median})$\n",
    "3. 数据分桶：\n",
    "    - 等频分桶；\n",
    "    - 等距分桶；\n",
    "    - Best-KS 分桶（类似利用基尼指数进行二分类）；\n",
    "    - 卡方分桶；\n",
    "4. 缺失值处理：\n",
    "    - 不处理（针对类似 XGBoost 等树模型）；\n",
    "    - 删除（缺失数据太多）；\n",
    "    - 插值补全，包括均值/中位数/众数/建模预测/多重插补/压缩感知补全/矩阵补全等；\n",
    "    - 分箱，缺失值一个箱；\n",
    "5. 特征构造：\n",
    "    - 构造统计量特征，报告计数、求和、比例、标准差等；\n",
    "    - 时间特征，包括相对时间和绝对时间，节假日，双休日等；\n",
    "    - 地理信息，包括分箱，分布编码等方法；\n",
    "    - 非线性变换，包括 log/ 平方/ 根号等；\n",
    "    - 特征组合，特征交叉；\n",
    "    - 仁者见仁，智者见智。\n",
    "6. 特征筛选\n",
    "    - 过滤式（filter）：先对数据进行特征选择，然后在训练学习器，常见的方法有 Relief/方差选择发/相关系数法/卡方检验法/互信息法；\n",
    "    - 包裹式（wrapper）：直接把最终将要使用的学习器的性能作为特征子集的评价准则，常见方法有 LVM（Las Vegas Wrapper） ；\n",
    "    - 嵌入式（embedding）：结合过滤式和包裹式，学习器训练过程中自动进行了特征选择，常见的有 lasso 回归；\n",
    "7. 降维\n",
    "    - PCA/ LDA/ ICA；\n",
    "    - 特征选择也是一种降维。"
   ]
  },
  {
   "cell_type": "markdown",
   "metadata": {},
   "source": [
    "## 3.3 代码示例"
   ]
  },
  {
   "cell_type": "markdown",
   "metadata": {},
   "source": [
    "## 3.3.0 导入数据"
   ]
  },
  {
   "cell_type": "code",
   "execution_count": 43,
   "metadata": {},
   "outputs": [],
   "source": [
    "import pandas as pd\n",
    "import numpy as np\n",
    "import matplotlib\n",
    "import matplotlib.pyplot as plt\n",
    "import seaborn as sns\n",
    "from operator import itemgetter\n",
    "\n",
    "%matplotlib inline"
   ]
  },
  {
   "cell_type": "code",
   "execution_count": 44,
   "metadata": {},
   "outputs": [
    {
     "name": "stdout",
     "output_type": "stream",
     "text": [
      "(150000, 31)\n",
      "(50000, 30)\n"
     ]
    }
   ],
   "source": [
    "train = pd.read_csv('data/train.csv', sep=' ')\n",
    "test = pd.read_csv('data/testA.csv', sep=' ')\n",
    "print(train.shape)\n",
    "print(test.shape)"
   ]
  },
  {
   "cell_type": "code",
   "execution_count": 45,
   "metadata": {},
   "outputs": [
    {
     "data": {
      "text/html": [
       "<div>\n",
       "<style scoped>\n",
       "    .dataframe tbody tr th:only-of-type {\n",
       "        vertical-align: middle;\n",
       "    }\n",
       "\n",
       "    .dataframe tbody tr th {\n",
       "        vertical-align: top;\n",
       "    }\n",
       "\n",
       "    .dataframe thead th {\n",
       "        text-align: right;\n",
       "    }\n",
       "</style>\n",
       "<table border=\"1\" class=\"dataframe\">\n",
       "  <thead>\n",
       "    <tr style=\"text-align: right;\">\n",
       "      <th></th>\n",
       "      <th>SaleID</th>\n",
       "      <th>name</th>\n",
       "      <th>regDate</th>\n",
       "      <th>model</th>\n",
       "      <th>brand</th>\n",
       "      <th>bodyType</th>\n",
       "      <th>fuelType</th>\n",
       "      <th>gearbox</th>\n",
       "      <th>power</th>\n",
       "      <th>kilometer</th>\n",
       "      <th>notRepairedDamage</th>\n",
       "      <th>regionCode</th>\n",
       "      <th>seller</th>\n",
       "      <th>offerType</th>\n",
       "      <th>creatDate</th>\n",
       "      <th>price</th>\n",
       "      <th>v_0</th>\n",
       "      <th>v_1</th>\n",
       "      <th>v_2</th>\n",
       "      <th>v_3</th>\n",
       "      <th>v_4</th>\n",
       "      <th>v_5</th>\n",
       "      <th>v_6</th>\n",
       "      <th>v_7</th>\n",
       "      <th>v_8</th>\n",
       "      <th>v_9</th>\n",
       "      <th>v_10</th>\n",
       "      <th>v_11</th>\n",
       "      <th>v_12</th>\n",
       "      <th>v_13</th>\n",
       "      <th>v_14</th>\n",
       "    </tr>\n",
       "  </thead>\n",
       "  <tbody>\n",
       "    <tr>\n",
       "      <th>0</th>\n",
       "      <td>0</td>\n",
       "      <td>736</td>\n",
       "      <td>20040402</td>\n",
       "      <td>30.0</td>\n",
       "      <td>6</td>\n",
       "      <td>1.0</td>\n",
       "      <td>0.0</td>\n",
       "      <td>0.0</td>\n",
       "      <td>60</td>\n",
       "      <td>12.5</td>\n",
       "      <td>0.0</td>\n",
       "      <td>1046</td>\n",
       "      <td>0</td>\n",
       "      <td>0</td>\n",
       "      <td>20160404</td>\n",
       "      <td>1850</td>\n",
       "      <td>43.357796</td>\n",
       "      <td>3.966344</td>\n",
       "      <td>0.050257</td>\n",
       "      <td>2.159744</td>\n",
       "      <td>1.143786</td>\n",
       "      <td>0.235676</td>\n",
       "      <td>0.101988</td>\n",
       "      <td>0.129549</td>\n",
       "      <td>0.022816</td>\n",
       "      <td>0.097462</td>\n",
       "      <td>-2.881803</td>\n",
       "      <td>2.804097</td>\n",
       "      <td>-2.420821</td>\n",
       "      <td>0.795292</td>\n",
       "      <td>0.914762</td>\n",
       "    </tr>\n",
       "    <tr>\n",
       "      <th>1</th>\n",
       "      <td>1</td>\n",
       "      <td>2262</td>\n",
       "      <td>20030301</td>\n",
       "      <td>40.0</td>\n",
       "      <td>1</td>\n",
       "      <td>2.0</td>\n",
       "      <td>0.0</td>\n",
       "      <td>0.0</td>\n",
       "      <td>0</td>\n",
       "      <td>15.0</td>\n",
       "      <td>-</td>\n",
       "      <td>4366</td>\n",
       "      <td>0</td>\n",
       "      <td>0</td>\n",
       "      <td>20160309</td>\n",
       "      <td>3600</td>\n",
       "      <td>45.305273</td>\n",
       "      <td>5.236112</td>\n",
       "      <td>0.137925</td>\n",
       "      <td>1.380657</td>\n",
       "      <td>-1.422165</td>\n",
       "      <td>0.264777</td>\n",
       "      <td>0.121004</td>\n",
       "      <td>0.135731</td>\n",
       "      <td>0.026597</td>\n",
       "      <td>0.020582</td>\n",
       "      <td>-4.900482</td>\n",
       "      <td>2.096338</td>\n",
       "      <td>-1.030483</td>\n",
       "      <td>-1.722674</td>\n",
       "      <td>0.245522</td>\n",
       "    </tr>\n",
       "    <tr>\n",
       "      <th>2</th>\n",
       "      <td>2</td>\n",
       "      <td>14874</td>\n",
       "      <td>20040403</td>\n",
       "      <td>115.0</td>\n",
       "      <td>15</td>\n",
       "      <td>1.0</td>\n",
       "      <td>0.0</td>\n",
       "      <td>0.0</td>\n",
       "      <td>163</td>\n",
       "      <td>12.5</td>\n",
       "      <td>0.0</td>\n",
       "      <td>2806</td>\n",
       "      <td>0</td>\n",
       "      <td>0</td>\n",
       "      <td>20160402</td>\n",
       "      <td>6222</td>\n",
       "      <td>45.978359</td>\n",
       "      <td>4.823792</td>\n",
       "      <td>1.319524</td>\n",
       "      <td>-0.998467</td>\n",
       "      <td>-0.996911</td>\n",
       "      <td>0.251410</td>\n",
       "      <td>0.114912</td>\n",
       "      <td>0.165147</td>\n",
       "      <td>0.062173</td>\n",
       "      <td>0.027075</td>\n",
       "      <td>-4.846749</td>\n",
       "      <td>1.803559</td>\n",
       "      <td>1.565330</td>\n",
       "      <td>-0.832687</td>\n",
       "      <td>-0.229963</td>\n",
       "    </tr>\n",
       "    <tr>\n",
       "      <th>3</th>\n",
       "      <td>3</td>\n",
       "      <td>71865</td>\n",
       "      <td>19960908</td>\n",
       "      <td>109.0</td>\n",
       "      <td>10</td>\n",
       "      <td>0.0</td>\n",
       "      <td>0.0</td>\n",
       "      <td>1.0</td>\n",
       "      <td>193</td>\n",
       "      <td>15.0</td>\n",
       "      <td>0.0</td>\n",
       "      <td>434</td>\n",
       "      <td>0</td>\n",
       "      <td>0</td>\n",
       "      <td>20160312</td>\n",
       "      <td>2400</td>\n",
       "      <td>45.687478</td>\n",
       "      <td>4.492574</td>\n",
       "      <td>-0.050616</td>\n",
       "      <td>0.883600</td>\n",
       "      <td>-2.228079</td>\n",
       "      <td>0.274293</td>\n",
       "      <td>0.110300</td>\n",
       "      <td>0.121964</td>\n",
       "      <td>0.033395</td>\n",
       "      <td>0.000000</td>\n",
       "      <td>-4.509599</td>\n",
       "      <td>1.285940</td>\n",
       "      <td>-0.501868</td>\n",
       "      <td>-2.438353</td>\n",
       "      <td>-0.478699</td>\n",
       "    </tr>\n",
       "    <tr>\n",
       "      <th>4</th>\n",
       "      <td>4</td>\n",
       "      <td>111080</td>\n",
       "      <td>20120103</td>\n",
       "      <td>110.0</td>\n",
       "      <td>5</td>\n",
       "      <td>1.0</td>\n",
       "      <td>0.0</td>\n",
       "      <td>0.0</td>\n",
       "      <td>68</td>\n",
       "      <td>5.0</td>\n",
       "      <td>0.0</td>\n",
       "      <td>6977</td>\n",
       "      <td>0</td>\n",
       "      <td>0</td>\n",
       "      <td>20160313</td>\n",
       "      <td>5200</td>\n",
       "      <td>44.383511</td>\n",
       "      <td>2.031433</td>\n",
       "      <td>0.572169</td>\n",
       "      <td>-1.571239</td>\n",
       "      <td>2.246088</td>\n",
       "      <td>0.228036</td>\n",
       "      <td>0.073205</td>\n",
       "      <td>0.091880</td>\n",
       "      <td>0.078819</td>\n",
       "      <td>0.121534</td>\n",
       "      <td>-1.896240</td>\n",
       "      <td>0.910783</td>\n",
       "      <td>0.931110</td>\n",
       "      <td>2.834518</td>\n",
       "      <td>1.923482</td>\n",
       "    </tr>\n",
       "  </tbody>\n",
       "</table>\n",
       "</div>"
      ],
      "text/plain": [
       "   SaleID    name   regDate  model  brand  bodyType  fuelType  gearbox  power  \\\n",
       "0       0     736  20040402   30.0      6       1.0       0.0      0.0     60   \n",
       "1       1    2262  20030301   40.0      1       2.0       0.0      0.0      0   \n",
       "2       2   14874  20040403  115.0     15       1.0       0.0      0.0    163   \n",
       "3       3   71865  19960908  109.0     10       0.0       0.0      1.0    193   \n",
       "4       4  111080  20120103  110.0      5       1.0       0.0      0.0     68   \n",
       "\n",
       "   kilometer notRepairedDamage  regionCode  seller  offerType  creatDate  \\\n",
       "0       12.5               0.0        1046       0          0   20160404   \n",
       "1       15.0                 -        4366       0          0   20160309   \n",
       "2       12.5               0.0        2806       0          0   20160402   \n",
       "3       15.0               0.0         434       0          0   20160312   \n",
       "4        5.0               0.0        6977       0          0   20160313   \n",
       "\n",
       "   price        v_0       v_1       v_2       v_3       v_4       v_5  \\\n",
       "0   1850  43.357796  3.966344  0.050257  2.159744  1.143786  0.235676   \n",
       "1   3600  45.305273  5.236112  0.137925  1.380657 -1.422165  0.264777   \n",
       "2   6222  45.978359  4.823792  1.319524 -0.998467 -0.996911  0.251410   \n",
       "3   2400  45.687478  4.492574 -0.050616  0.883600 -2.228079  0.274293   \n",
       "4   5200  44.383511  2.031433  0.572169 -1.571239  2.246088  0.228036   \n",
       "\n",
       "        v_6       v_7       v_8       v_9      v_10      v_11      v_12  \\\n",
       "0  0.101988  0.129549  0.022816  0.097462 -2.881803  2.804097 -2.420821   \n",
       "1  0.121004  0.135731  0.026597  0.020582 -4.900482  2.096338 -1.030483   \n",
       "2  0.114912  0.165147  0.062173  0.027075 -4.846749  1.803559  1.565330   \n",
       "3  0.110300  0.121964  0.033395  0.000000 -4.509599  1.285940 -0.501868   \n",
       "4  0.073205  0.091880  0.078819  0.121534 -1.896240  0.910783  0.931110   \n",
       "\n",
       "       v_13      v_14  \n",
       "0  0.795292  0.914762  \n",
       "1 -1.722674  0.245522  \n",
       "2 -0.832687 -0.229963  \n",
       "3 -2.438353 -0.478699  \n",
       "4  2.834518  1.923482  "
      ]
     },
     "execution_count": 45,
     "metadata": {},
     "output_type": "execute_result"
    }
   ],
   "source": [
    "pd.set_option('display.max_columns',None)\n",
    "train.head()"
   ]
  },
  {
   "cell_type": "markdown",
   "metadata": {},
   "source": [
    "## 3.3.1 删除异常值"
   ]
  },
  {
   "cell_type": "code",
   "execution_count": 46,
   "metadata": {},
   "outputs": [],
   "source": [
    "# 这里包装了一个异常值处理的代码，可以随便调用。\n",
    "def outliers_proc(data, col_name, scale=3):\n",
    "    \"\"\"\n",
    "    用于清洗异常值，默认用 box_plot（scale=3）进行清洗\n",
    "    :param data: 接收 pandas 数据格式\n",
    "    :param col_name: pandas 列名\n",
    "    :param scale: 尺度\n",
    "    :return:\n",
    "    \"\"\"\n",
    "\n",
    "    def box_plot_outliers(data_ser, box_scale):\n",
    "        \"\"\"\n",
    "        利用箱线图去除异常值\n",
    "        :param data_ser: 接收 pandas.Series 数据格式\n",
    "        :param box_scale: 箱线图尺度，\n",
    "        :return:\n",
    "        \"\"\"\n",
    "        iqr = box_scale * (data_ser.quantile(0.75) - data_ser.quantile(0.25))\n",
    "        val_low = data_ser.quantile(0.25) - iqr\n",
    "        val_up = data_ser.quantile(0.75) + iqr\n",
    "        rule_low = (data_ser < val_low)\n",
    "        rule_up = (data_ser > val_up)\n",
    "        return (rule_low, rule_up), (val_low, val_up)\n",
    "\n",
    "    data_n = data.copy()\n",
    "    data_series = data_n[col_name]\n",
    "    rule, value = box_plot_outliers(data_series, box_scale=scale)\n",
    "    index = np.arange(data_series.shape[0])[rule[0] | rule[1]]\n",
    "    print(\"Delete number is: {}\".format(len(index)))\n",
    "    data_n = data_n.drop(index)\n",
    "    data_n.reset_index(drop=True, inplace=True)\n",
    "    print(\"Now column number is: {}\".format(data_n.shape[0]))\n",
    "    index_low = np.arange(data_series.shape[0])[rule[0]]\n",
    "    outliers = data_series.iloc[index_low]\n",
    "    print(\"Description of data less than the lower bound is:\")\n",
    "    print(pd.Series(outliers).describe())\n",
    "    index_up = np.arange(data_series.shape[0])[rule[1]]\n",
    "    outliers = data_series.iloc[index_up]\n",
    "    print(\"Description of data larger than the upper bound is:\")\n",
    "    print(pd.Series(outliers).describe())\n",
    "    \n",
    "    fig, ax = plt.subplots(1, 2, figsize=(10, 7))\n",
    "    sns.boxplot(y=data[col_name], data=data, palette=\"Set1\", ax=ax[0])\n",
    "    sns.boxplot(y=data_n[col_name], data=data_n, palette=\"Set1\", ax=ax[1])\n",
    "    return data_n"
   ]
  },
  {
   "cell_type": "code",
   "execution_count": 47,
   "metadata": {},
   "outputs": [
    {
     "name": "stdout",
     "output_type": "stream",
     "text": [
      "Delete number is: 963\n",
      "Now column number is: 149037\n",
      "Description of data less than the lower bound is:\n",
      "count    0.0\n",
      "mean     NaN\n",
      "std      NaN\n",
      "min      NaN\n",
      "25%      NaN\n",
      "50%      NaN\n",
      "75%      NaN\n",
      "max      NaN\n",
      "Name: power, dtype: float64\n",
      "Description of data larger than the upper bound is:\n",
      "count      963.000000\n",
      "mean       846.836968\n",
      "std       1929.418081\n",
      "min        376.000000\n",
      "25%        400.000000\n",
      "50%        436.000000\n",
      "75%        514.000000\n",
      "max      19312.000000\n",
      "Name: power, dtype: float64\n"
     ]
    },
    {
     "data": {
      "image/png": "[encoded data removed]",
      "text/plain": [
       "<Figure size 720x504 with 2 Axes>"
      ]
     },
     "metadata": {
      "needs_background": "light"
     },
     "output_type": "display_data"
    }
   ],
   "source": [
    "# 我们可以删掉一些异常数据，以 power 为例。  \n",
    "# 这里删不删同学可以自行判断\n",
    "# 但是要注意 test 的数据不能删 = = 不能掩耳盗铃是不是\n",
    "\n",
    "train = outliers_proc(train, 'power', scale=3)"
   ]
  },
  {
   "cell_type": "markdown",
   "metadata": {},
   "source": [
    "## 3.3.2 特征构造"
   ]
  },
  {
   "cell_type": "code",
   "execution_count": 48,
   "metadata": {},
   "outputs": [],
   "source": [
    "# 训练集和测试集放在一起，方便构造特征\n",
    "train['train']=1\n",
    "test['train']=0\n",
    "data = pd.concat([train, test], ignore_index=True, sort=False)"
   ]
  },
  {
   "cell_type": "code",
   "execution_count": 49,
   "metadata": {},
   "outputs": [],
   "source": [
    "# 使用时间：data['creatDate'] - data['regDate']，反应汽车使用时间，一般来说价格与使用时间成反比,不过要注意，数据里有时间出错的格式\n",
    "\"\"\"\n",
    "pandas.to_datetime（arg，errors ='raise'，utc = None，format = None，unit = None ）\n",
    "      errors三种取值，默认为raise。'raise'，则无效的解析将引发异常'coerce'，无效解析将被设置为NaT,'ignore'，无效的解析将返回输入值。\n",
    "      NaT（Not a Time） 是pandas中时间戳数据的null值。\n",
    "      utc:布尔值，默认为none。返回utc即协调世界时。\n",
    "      format:格式化显示时间的格式。\n",
    "      unit:默认值为‘ns’，则将会精确到纳秒。\n",
    "\"\"\"\n",
    "data['used_time'] = (pd.to_datetime(data['creatDate'], format='%Y%m%d', errors='coerce') - \n",
    "                            pd.to_datetime(data['regDate'], format='%Y%m%d', errors='coerce')).dt.days"
   ]
  },
  {
   "cell_type": "code",
   "execution_count": 50,
   "metadata": {},
   "outputs": [
    {
     "data": {
      "text/plain": [
       "15072"
      ]
     },
     "execution_count": 50,
     "metadata": {},
     "output_type": "execute_result"
    }
   ],
   "source": [
    "# 看一下空数据，有 15k 个样本的时间是有问题的，我们可以选择删除，也可以选择放着。\n",
    "# 但是这里不建议删除，因为删除缺失数据占总样本量过大，7.5%\n",
    "# 我们可以先放着，因为如果我们 XGBoost 之类的决策树，其本身就能处理缺失值，所以可以不用管；\n",
    "data['used_time'].isnull().sum()"
   ]
  },
  {
   "cell_type": "code",
   "execution_count": 51,
   "metadata": {},
   "outputs": [
    {
     "name": "stdout",
     "output_type": "stream",
     "text": [
      "0    1046\n",
      "1    4366\n",
      "2    2806\n",
      "3     434\n",
      "4    6977\n",
      "Name: regionCode, dtype: int64\n"
     ]
    }
   ],
   "source": [
    "# 从邮编中提取城市信息，因为是德国的数据，所以参考德国的邮编，相当于加入了先验知识\n",
    "\n",
    "print(data['regionCode'].head())\n",
    "data['city'] = data['regionCode'].apply(lambda x : str(x)[:-3])"
   ]
  },
  {
   "cell_type": "code",
   "execution_count": 52,
   "metadata": {},
   "outputs": [
    {
     "name": "stdout",
     "output_type": "stream",
     "text": [
      "brand\n",
      "0     31429\n",
      "1     13656\n",
      "2       318\n",
      "3      2461\n",
      "4     16575\n",
      "5      4662\n",
      "6     10193\n",
      "7      2360\n",
      "8      2070\n",
      "9      7299\n",
      "10    13994\n",
      "11     2944\n",
      "12     1108\n",
      "13     3813\n",
      "14    16073\n",
      "15     1458\n",
      "16     2219\n",
      "17      913\n",
      "18      315\n",
      "19     1386\n",
      "20     1235\n",
      "21     1546\n",
      "22     1085\n",
      "23      183\n",
      "24      630\n",
      "25     2059\n",
      "26      878\n",
      "27     2049\n",
      "28      633\n",
      "29      406\n",
      "30      940\n",
      "31      318\n",
      "32      588\n",
      "33      201\n",
      "34      227\n",
      "35      180\n",
      "36      228\n",
      "37      331\n",
      "38       65\n",
      "39        9\n",
      "dtype: int64\n",
      "<class 'pandas.core.groupby.generic.DataFrameGroupBy'>\n",
      "    brand_amount  brand_price_max  brand_price_median  brand_price_min  \\\n",
      "0        31429.0          68500.0              3199.0             13.0   \n",
      "1        13656.0          84000.0              6399.0             15.0   \n",
      "2          318.0          55800.0              7500.0             35.0   \n",
      "3         2461.0          37500.0              4990.0             65.0   \n",
      "4        16575.0          99999.0              5999.0             12.0   \n",
      "5         4662.0          31500.0              2300.0             20.0   \n",
      "6        10193.0          35990.0              1800.0             13.0   \n",
      "7         2360.0          38900.0              2600.0             60.0   \n",
      "8         2070.0          99999.0              2270.0             30.0   \n",
      "9         7299.0          68530.0              1400.0             50.0   \n",
      "10       13994.0          92900.0              5200.0             15.0   \n",
      "11        2944.0          34500.0              2900.0             30.0   \n",
      "12        1108.0          27490.0              2625.0             50.0   \n",
      "13        3813.0          35000.0              1600.0             20.0   \n",
      "14       16073.0          38990.0              1700.0             12.0   \n",
      "15        1458.0          45000.0              8500.0            100.0   \n",
      "16        2219.0          17900.0              2999.0             20.0   \n",
      "17         913.0          55800.0              2200.0             15.0   \n",
      "18         315.0          34599.0              1999.0             50.0   \n",
      "19        1386.0          42350.0              2800.0             20.0   \n",
      "20        1235.0          37800.0              1750.0             15.0   \n",
      "21        1546.0          35999.0              4225.0             50.0   \n",
      "22        1085.0          43900.0              3950.0             50.0   \n",
      "23         183.0          64000.0              1200.0             99.0   \n",
      "24         630.0          99999.0             27450.0             15.0   \n",
      "25        2059.0          22500.0              2500.0             25.0   \n",
      "26         878.0          99999.0              5000.0             11.0   \n",
      "27        2049.0          62900.0              4200.0             35.0   \n",
      "28         633.0          39900.0              3790.0             80.0   \n",
      "29         406.0          19990.0              5250.0            500.0   \n",
      "30         940.0          23200.0              3295.0             50.0   \n",
      "31         318.0          11000.0              1000.0             50.0   \n",
      "32         588.0          33500.0              2350.0             50.0   \n",
      "33         201.0          65000.0              5600.0            980.0   \n",
      "34         227.0           2900.0               999.0             60.0   \n",
      "35         180.0          28900.0               950.0             50.0   \n",
      "36         228.0          20900.0              2250.0            150.0   \n",
      "37         331.0          86500.0             13250.0            550.0   \n",
      "38          65.0           8999.0              2850.0             99.0   \n",
      "39           9.0          14500.0              1900.0            750.0   \n",
      "\n",
      "    brand_price_sum  brand_price_std  brand_price_average  \n",
      "0       173719698.0      6261.371627              5527.19  \n",
      "1       124044603.0      8988.865406              9082.86  \n",
      "2         3766241.0     10576.224444             11806.40  \n",
      "3        15954226.0      5396.327503              6480.19  \n",
      "4       138279069.0      8089.863295              8342.13  \n",
      "5        15414322.0      3344.689763              3305.67  \n",
      "6        36457518.0      4562.233331              3576.37  \n",
      "7         9905909.0      4752.584154              4195.64  \n",
      "8        10017173.0      6053.233424              4836.88  \n",
      "9        17805271.0      2975.342884              2439.08  \n",
      "10      113034210.0      8244.695287              8076.76  \n",
      "11       13398006.0      4722.160492              4549.41  \n",
      "12        4494303.0      4066.959950              4052.57  \n",
      "13       10675790.0      3073.915196              2799.11  \n",
      "14       49076652.0      3605.595127              3053.17  \n",
      "15       14373814.0      5425.058140              9851.83  \n",
      "16        8078352.0      2450.906089              3638.90  \n",
      "17        3328679.0      3952.913330              3641.88  \n",
      "18        1519049.0      6358.409761              4807.12  \n",
      "19        7228288.0      6186.538949              5211.45  \n",
      "20        4292737.0      4400.529809              3473.09  \n",
      "21        8856481.0      5257.235026              5724.94  \n",
      "22        6543426.0      5877.140886              6025.25  \n",
      "23         597132.0      7333.695140              3245.28  \n",
      "24       20422776.0     19855.495201             32365.73  \n",
      "25        7515546.0      3556.249839              3648.32  \n",
      "26        7242792.0     10282.987274              8239.81  \n",
      "27       10862559.0      4853.289240              5298.81  \n",
      "28        3373957.0      4509.036301              5321.70  \n",
      "29        2459028.0      3639.737722              6041.84  \n",
      "30        3939145.0      3659.577291              4186.13  \n",
      "31         560155.0      1829.079211              1755.97  \n",
      "32        2360095.0      4394.596002              4006.95  \n",
      "33        1839801.0      9637.135323              9107.93  \n",
      "34         231776.0       554.118445              1016.56  \n",
      "35         297977.0      3325.933365              1646.28  \n",
      "36         816001.0      3922.715389              3563.32  \n",
      "37        5371844.0     13541.180315             16180.25  \n",
      "38         215620.0      2140.083145              3266.97  \n",
      "39          39480.0      5520.867233              3948.00  \n",
      "   brand  brand_amount  brand_price_max  brand_price_median  brand_price_min  \\\n",
      "0      0       31429.0          68500.0              3199.0             13.0   \n",
      "1      1       13656.0          84000.0              6399.0             15.0   \n",
      "2      2         318.0          55800.0              7500.0             35.0   \n",
      "3      3        2461.0          37500.0              4990.0             65.0   \n",
      "4      4       16575.0          99999.0              5999.0             12.0   \n",
      "\n",
      "   brand_price_sum  brand_price_std  brand_price_average  \n",
      "0      173719698.0      6261.371627              5527.19  \n",
      "1      124044603.0      8988.865406              9082.86  \n",
      "2        3766241.0     10576.224444             11806.40  \n",
      "3       15954226.0      5396.327503              6480.19  \n",
      "4      138279069.0      8089.863295              8342.13  \n"
     ]
    }
   ],
   "source": [
    "# 计算某品牌的销售统计量，同学们还可以计算其他特征的统计量\n",
    "# 这里要以 train 的数据计算统计量\n",
    "train_gb = train.groupby(\"brand\")\n",
    "print(train_gb.size())\n",
    "print(type(train_gb))\n",
    "all_info = {}\n",
    "for kind, kind_data in train_gb:\n",
    "    info = {}\n",
    "    kind_data = kind_data[kind_data['price'] > 0]\n",
    "    info['brand_amount'] = len(kind_data)\n",
    "    info['brand_price_max'] = kind_data.price.max()\n",
    "    info['brand_price_median'] = kind_data.price.median()\n",
    "    info['brand_price_min'] = kind_data.price.min()\n",
    "    info['brand_price_sum'] = kind_data.price.sum()\n",
    "    info['brand_price_std'] = kind_data.price.std()\n",
    "    info['brand_price_average'] = round(kind_data.price.sum() / (len(kind_data) + 1), 2)\n",
    "    all_info[kind] = info\n",
    "    \n",
    "print(pd.DataFrame(all_info).T)\n",
    "brand_fe = pd.DataFrame(all_info).T.reset_index().rename(columns={\"index\": \"brand\"})\n",
    "print(brand_fe.head())\n",
    "\n",
    "data = data.merge(brand_fe, how='left', on='brand')"
   ]
  },
  {
   "cell_type": "code",
   "execution_count": 53,
   "metadata": {},
   "outputs": [
    {
     "name": "stdout",
     "output_type": "stream",
     "text": [
      "count    199037.000000\n",
      "mean        115.939041\n",
      "std         108.152893\n",
      "min           0.000000\n",
      "25%          75.000000\n",
      "50%         109.000000\n",
      "75%         150.000000\n",
      "max       20000.000000\n",
      "Name: power, dtype: float64\n"
     ]
    },
    {
     "data": {
      "text/html": [
       "<div>\n",
       "<style scoped>\n",
       "    .dataframe tbody tr th:only-of-type {\n",
       "        vertical-align: middle;\n",
       "    }\n",
       "\n",
       "    .dataframe tbody tr th {\n",
       "        vertical-align: top;\n",
       "    }\n",
       "\n",
       "    .dataframe thead th {\n",
       "        text-align: right;\n",
       "    }\n",
       "</style>\n",
       "<table border=\"1\" class=\"dataframe\">\n",
       "  <thead>\n",
       "    <tr style=\"text-align: right;\">\n",
       "      <th></th>\n",
       "      <th>power_bin</th>\n",
       "      <th>power</th>\n",
       "    </tr>\n",
       "  </thead>\n",
       "  <tbody>\n",
       "    <tr>\n",
       "      <th>0</th>\n",
       "      <td>5.0</td>\n",
       "      <td>60</td>\n",
       "    </tr>\n",
       "    <tr>\n",
       "      <th>1</th>\n",
       "      <td>NaN</td>\n",
       "      <td>0</td>\n",
       "    </tr>\n",
       "    <tr>\n",
       "      <th>2</th>\n",
       "      <td>16.0</td>\n",
       "      <td>163</td>\n",
       "    </tr>\n",
       "    <tr>\n",
       "      <th>3</th>\n",
       "      <td>19.0</td>\n",
       "      <td>193</td>\n",
       "    </tr>\n",
       "    <tr>\n",
       "      <th>4</th>\n",
       "      <td>6.0</td>\n",
       "      <td>68</td>\n",
       "    </tr>\n",
       "  </tbody>\n",
       "</table>\n",
       "</div>"
      ],
      "text/plain": [
       "   power_bin  power\n",
       "0        5.0     60\n",
       "1        NaN      0\n",
       "2       16.0    163\n",
       "3       19.0    193\n",
       "4        6.0     68"
      ]
     },
     "execution_count": 53,
     "metadata": {},
     "output_type": "execute_result"
    }
   ],
   "source": [
    "# 数据分桶 以 power 为例\n",
    "# 这时候我们的缺失值也进桶了，\n",
    "# 为什么要做数据分桶呢，原因有很多，= =\n",
    "# 1. 离散后稀疏向量内积乘法运算速度更快，计算结果也方便存储，容易扩展；\n",
    "# 2. 离散后的特征对异常值更具鲁棒性，如 age>30 为 1 否则为 0，对于年龄为 200 的也不会对模型造成很大的干扰；\n",
    "# 3. LR 属于广义线性模型，表达能力有限，经过离散化后，每个变量有单独的权重，这相当于引入了非线性，能够提升模型的表达能力，加大拟合；\n",
    "# 4. 离散后特征可以进行特征交叉，提升表达能力，由 M+N 个变量编程 M*N 个变量，进一步引入非线形，提升了表达能力；\n",
    "# 5. 特征离散后模型更稳定，如用户年龄区间，不会因为用户年龄长了一岁就变化\n",
    "\n",
    "# 当然还有很多原因，LightGBM 在改进 XGBoost 时就增加了数据分桶，增强了模型的泛化性\n",
    "\n",
    "#labels：给分割后的bins打标签，比如把年龄x分割成年龄段bins后，可以给年龄段打上诸如青年、中年的标签。labels的长度必须和划分后的区间长度相等，比如bins=[1,2,3]，划分后有2个区间(1,2]，(2,3]，则labels的长度必须为2。如果指定\n",
    "#labels=False，则返回x中的数据在第几个bin中（从0开始）。\n",
    "print(data[\"power\"].describe())\n",
    "bin = [i*10 for i in range(31)]\n",
    "data['power_bin'] = pd.cut(data[\"power\"],bin,labels = False)#,labels = None\n",
    "data[['power_bin', 'power']].head()"
   ]
  },
  {
   "cell_type": "code",
   "execution_count": 54,
   "metadata": {},
   "outputs": [],
   "source": [
    "# 利用好了，就可以删掉原始数据了\n",
    "data = data.drop(['creatDate', 'regDate', 'regionCode'], axis=1)"
   ]
  },
  {
   "cell_type": "code",
   "execution_count": 55,
   "metadata": {},
   "outputs": [
    {
     "name": "stdout",
     "output_type": "stream",
     "text": [
      "(199037, 39)\n"
     ]
    },
    {
     "data": {
      "text/plain": [
       "Index(['SaleID', 'name', 'model', 'brand', 'bodyType', 'fuelType', 'gearbox',\n",
       "       'power', 'kilometer', 'notRepairedDamage', 'seller', 'offerType',\n",
       "       'price', 'v_0', 'v_1', 'v_2', 'v_3', 'v_4', 'v_5', 'v_6', 'v_7', 'v_8',\n",
       "       'v_9', 'v_10', 'v_11', 'v_12', 'v_13', 'v_14', 'train', 'used_time',\n",
       "       'city', 'brand_amount', 'brand_price_max', 'brand_price_median',\n",
       "       'brand_price_min', 'brand_price_sum', 'brand_price_std',\n",
       "       'brand_price_average', 'power_bin'],\n",
       "      dtype='object')"
      ]
     },
     "execution_count": 55,
     "metadata": {},
     "output_type": "execute_result"
    }
   ],
   "source": [
    "print(data.shape)\n",
    "data.columns"
   ]
  },
  {
   "cell_type": "code",
   "execution_count": 56,
   "metadata": {},
   "outputs": [],
   "source": [
    "# 目前的数据其实已经可以给树模型使用了，所以我们导出一下\n",
    "data.to_csv('data_for_tree.csv', index=0)"
   ]
  },
  {
   "cell_type": "code",
   "execution_count": 57,
   "metadata": {},
   "outputs": [
    {
     "data": {
      "text/plain": [
       "<matplotlib.axes._subplots.AxesSubplot at 0x1ff89b4c6c8>"
      ]
     },
     "execution_count": 57,
     "metadata": {},
     "output_type": "execute_result"
    },
    {
     "data": {
      "image/png": "[encoded data removed]",
      "text/plain": [
       "<Figure size 432x288 with 1 Axes>"
      ]
     },
     "metadata": {
      "needs_background": "light"
     },
     "output_type": "display_data"
    }
   ],
   "source": [
    "# 我们可以再构造一份特征给 LR NN 之类的模型用\n",
    "# 之所以分开构造是因为，不同模型对数据集的要求不同\n",
    "# 我们看下数据分布：\n",
    "data['power'].plot.hist()"
   ]
  },
  {
   "cell_type": "code",
   "execution_count": 58,
   "metadata": {},
   "outputs": [
    {
     "data": {
      "text/plain": [
       "<matplotlib.axes._subplots.AxesSubplot at 0x1ff89c1a4c8>"
      ]
     },
     "execution_count": 58,
     "metadata": {},
     "output_type": "execute_result"
    },
    {
     "data": {
      "image/png": "[encoded data removed]",
      "text/plain": [
       "<Figure size 432x288 with 1 Axes>"
      ]
     },
     "metadata": {
      "needs_background": "light"
     },
     "output_type": "display_data"
    }
   ],
   "source": [
    "# 我们刚刚已经对 train 进行异常值处理了，但是现在还有这么奇怪的分布是因为 test 中的 power 异常值，\n",
    "# 所以我们其实刚刚 train 中的 power 异常值不删为好，可以用长尾分布截断来代替\n",
    "train['power'].plot.hist()"
   ]
  },
  {
   "cell_type": "code",
   "execution_count": 59,
   "metadata": {},
   "outputs": [
    {
     "data": {
      "text/plain": [
       "<matplotlib.axes._subplots.AxesSubplot at 0x1ffeba9d6c8>"
      ]
     },
     "execution_count": 59,
     "metadata": {},
     "output_type": "execute_result"
    },
    {
     "data": {
      "image/png": "[encoded data removed]",
      "text/plain": [
       "<Figure size 432x288 with 1 Axes>"
      ]
     },
     "metadata": {
      "needs_background": "light"
     },
     "output_type": "display_data"
    }
   ],
   "source": [
    "# 我们对其取 log，在做归一化\n",
    "from sklearn import preprocessing\n",
    "min_max_scaler = preprocessing.MinMaxScaler()\n",
    "data['power'] = np.log(data['power'] + 1) \n",
    "data['power'] = ((data['power'] - np.min(data['power'])) / (np.max(data['power']) - np.min(data['power'])))\n",
    "data['power'].plot.hist()"
   ]
  },
  {
   "cell_type": "code",
   "execution_count": 60,
   "metadata": {},
   "outputs": [
    {
     "data": {
      "text/plain": [
       "<matplotlib.axes._subplots.AxesSubplot at 0x1ff8a92d508>"
      ]
     },
     "execution_count": 60,
     "metadata": {},
     "output_type": "execute_result"
    },
    {
     "data": {
      "image/png": "[encoded data removed]",
      "text/plain": [
       "<Figure size 432x288 with 1 Axes>"
      ]
     },
     "metadata": {
      "needs_background": "light"
     },
     "output_type": "display_data"
    }
   ],
   "source": [
    "# km 的比较正常，应该是已经做过分桶了\n",
    "data['kilometer'].plot.hist()"
   ]
  },
  {
   "cell_type": "code",
   "execution_count": 21,
   "metadata": {},
   "outputs": [
    {
     "data": {
      "text/plain": [
       "<matplotlib.axes._subplots.AxesSubplot at 0x2c1a3171b00>"
      ]
     },
     "execution_count": 21,
     "metadata": {},
     "output_type": "execute_result"
    },
    {
     "data": {
      "image/png": "[encoded data removed]",
      "text/plain": [
       "<Figure size 432x288 with 1 Axes>"
      ]
     },
     "metadata": {},
     "output_type": "display_data"
    }
   ],
   "source": [
    "# 所以我们可以直接做归一化\n",
    "data['kilometer'] = ((data['kilometer'] - np.min(data['kilometer'])) / \n",
    "                        (np.max(data['kilometer']) - np.min(data['kilometer'])))\n",
    "data['kilometer'].plot.hist()"
   ]
  },
  {
   "cell_type": "code",
   "execution_count": 22,
   "metadata": {},
   "outputs": [],
   "source": [
    "# 除此之外 还有我们刚刚构造的统计量特征：\n",
    "# 'brand_amount', 'brand_price_average', 'brand_price_max',\n",
    "# 'brand_price_median', 'brand_price_min', 'brand_price_std',\n",
    "# 'brand_price_sum'\n",
    "# 这里不再一一举例分析了，直接做变换，\n",
    "def max_min(x):\n",
    "    return (x - np.min(x)) / (np.max(x) - np.min(x))\n",
    "\n",
    "data['brand_amount'] = ((data['brand_amount'] - np.min(data['brand_amount'])) / \n",
    "                        (np.max(data['brand_amount']) - np.min(data['brand_amount'])))\n",
    "data['brand_price_average'] = ((data['brand_price_average'] - np.min(data['brand_price_average'])) / \n",
    "                               (np.max(data['brand_price_average']) - np.min(data['brand_price_average'])))\n",
    "data['brand_price_max'] = ((data['brand_price_max'] - np.min(data['brand_price_max'])) / \n",
    "                           (np.max(data['brand_price_max']) - np.min(data['brand_price_max'])))\n",
    "data['brand_price_median'] = ((data['brand_price_median'] - np.min(data['brand_price_median'])) /\n",
    "                              (np.max(data['brand_price_median']) - np.min(data['brand_price_median'])))\n",
    "data['brand_price_min'] = ((data['brand_price_min'] - np.min(data['brand_price_min'])) / \n",
    "                           (np.max(data['brand_price_min']) - np.min(data['brand_price_min'])))\n",
    "data['brand_price_std'] = ((data['brand_price_std'] - np.min(data['brand_price_std'])) / \n",
    "                           (np.max(data['brand_price_std']) - np.min(data['brand_price_std'])))\n",
    "data['brand_price_sum'] = ((data['brand_price_sum'] - np.min(data['brand_price_sum'])) / \n",
    "                           (np.max(data['brand_price_sum']) - np.min(data['brand_price_sum'])))"
   ]
  },
  {
   "cell_type": "code",
   "execution_count": 23,
   "metadata": {},
   "outputs": [],
   "source": [
    "# 对类别特征进行 OneEncoder\n",
    "data = pd.get_dummies(data, columns=['model', 'brand', 'bodyType', 'fuelType',\n",
    "                                     'gearbox', 'notRepairedDamage', 'power_bin'])"
   ]
  },
  {
   "cell_type": "code",
   "execution_count": 24,
   "metadata": {},
   "outputs": [
    {
     "name": "stdout",
     "output_type": "stream",
     "text": [
      "(200000, 370)\n"
     ]
    },
    {
     "data": {
      "text/plain": [
       "Index(['SaleID', 'name', 'power', 'kilometer', 'seller', 'offerType', 'price',\n",
       "       'v_0', 'v_1', 'v_2',\n",
       "       ...\n",
       "       'power_bin_20.0', 'power_bin_21.0', 'power_bin_22.0', 'power_bin_23.0',\n",
       "       'power_bin_24.0', 'power_bin_25.0', 'power_bin_26.0', 'power_bin_27.0',\n",
       "       'power_bin_28.0', 'power_bin_29.0'],\n",
       "      dtype='object', length=370)"
      ]
     },
     "execution_count": 24,
     "metadata": {},
     "output_type": "execute_result"
    }
   ],
   "source": [
    "print(data.shape)\n",
    "data.columns"
   ]
  },
  {
   "cell_type": "code",
   "execution_count": 25,
   "metadata": {},
   "outputs": [],
   "source": [
    "# 这份数据可以给 LR 用\n",
    "data.to_csv('data_for_lr.csv', index=0)"
   ]
  },
  {
   "cell_type": "markdown",
   "metadata": {},
   "source": [
    "## 3.3.3 特征筛选"
   ]
  },
  {
   "cell_type": "markdown",
   "metadata": {},
   "source": [
    "### 1) 过滤式"
   ]
  },
  {
   "cell_type": "code",
   "execution_count": 27,
   "metadata": {},
   "outputs": [
    {
     "name": "stdout",
     "output_type": "stream",
     "text": [
      "0.5737373458520139\n",
      "-0.4093147076627742\n",
      "0.0579639618400197\n",
      "0.38587089498185884\n",
      "0.26142364388130207\n",
      "0.3891431767902722\n"
     ]
    }
   ],
   "source": [
    "# 相关性分析\n",
    "print(data['power'].corr(data['price'], method='spearman'))\n",
    "print(data['kilometer'].corr(data['price'], method='spearman'))\n",
    "print(data['brand_amount'].corr(data['price'], method='spearman'))\n",
    "print(data['brand_price_average'].corr(data['price'], method='spearman'))\n",
    "print(data['brand_price_max'].corr(data['price'], method='spearman'))\n",
    "print(data['brand_price_median'].corr(data['price'], method='spearman'))"
   ]
  },
  {
   "cell_type": "code",
   "execution_count": 28,
   "metadata": {},
   "outputs": [
    {
     "data": {
      "text/plain": [
       "<matplotlib.axes._subplots.AxesSubplot at 0x129059470>"
      ]
     },
     "execution_count": 28,
     "metadata": {},
     "output_type": "execute_result"
    },
    {
     "data": {
      "image/png": "[encoded data removed]",
      "text/plain": [
       "<Figure size 504x504 with 2 Axes>"
      ]
     },
     "metadata": {
      "needs_background": "light"
     },
     "output_type": "display_data"
    }
   ],
   "source": [
    "# 当然也可以直接看图\n",
    "data_numeric = data[['power', 'kilometer', 'brand_amount', 'brand_price_average', \n",
    "                     'brand_price_max', 'brand_price_median']]\n",
    "correlation = data_numeric.corr()\n",
    "\n",
    "f , ax = plt.subplots(figsize = (7, 7))\n",
    "plt.title('Correlation of Numeric Features with Price',y=1,size=16)\n",
    "sns.heatmap(correlation,square = True,  vmax=0.8)"
   ]
  },
  {
   "cell_type": "markdown",
   "metadata": {},
   "source": [
    "### 2) 包裹式"
   ]
  },
  {
   "cell_type": "code",
   "execution_count": null,
   "metadata": {},
   "outputs": [],
   "source": [
    "!pip install mlxtend"
   ]
  },
  {
   "cell_type": "code",
   "execution_count": 66,
   "metadata": {},
   "outputs": [
    {
     "name": "stdout",
     "output_type": "stream",
     "text": [
      "\n"
     ]
    }
   ],
   "source": [
    "# k_feature 太大会很难跑，没服务器，所以提前 interrupt 了\n",
    "\n",
    "from mlxtend.feature_selection import SequentialFeatureSelector as SFS\n",
    "from sklearn.linear_model import LinearRegression\n",
    "sfs = SFS(LinearRegression(),\n",
    "           k_features=10,\n",
    "           forward=True,\n",
    "           floating=False,\n",
    "           scoring = 'r2',\n",
    "           cv = 0)\n",
    "x = data.drop(['price'], axis=1)\n",
    "x = x.fillna(0)\n",
    "y = data['price']\n",
    "sfs.fit(x, y)\n",
    "sfs.k_feature_names_ \n"
   ]
  },
  {
   "cell_type": "code",
   "execution_count": 17,
   "metadata": {},
   "outputs": [
    {
     "name": "stderr",
     "output_type": "stream",
     "text": [
      "/Users/chenze/anaconda3/lib/python3.7/site-packages/numpy/core/_methods.py:140: RuntimeWarning: Degrees of freedom <= 0 for slice\n",
      "  keepdims=keepdims)\n",
      "/Users/chenze/anaconda3/lib/python3.7/site-packages/numpy/core/_methods.py:132: RuntimeWarning: invalid value encountered in double_scalars\n",
      "  ret = ret.dtype.type(ret / rcount)\n"
     ]
    },
    {
     "data": {
      "image/png": "[encoded data removed]",
      "text/plain": [
       "<Figure size 432x288 with 1 Axes>"
      ]
     },
     "metadata": {
      "needs_background": "light"
     },
     "output_type": "display_data"
    }
   ],
   "source": [
    "# 画出来，可以看到边际效益\n",
    "from mlxtend.plotting import plot_sequential_feature_selection as plot_sfs\n",
    "import matplotlib.pyplot as plt\n",
    "fig1 = plot_sfs(sfs.get_metric_dict(), kind='std_dev')\n",
    "plt.grid()\n",
    "plt.show()"
   ]
  },
  {
   "cell_type": "markdown",
   "metadata": {},
   "source": [
    "### 3) 嵌入式"
   ]
  },
  {
   "cell_type": "code",
   "execution_count": 18,
   "metadata": {},
   "outputs": [],
   "source": [
    "# 下一章介绍，Lasso 回归和决策树可以完成嵌入式特征选择\n",
    "# 大部分情况下都是用嵌入式做特征筛选"
   ]
  },
  {
   "cell_type": "markdown",
   "metadata": {},
   "source": [
    "## 3.4 经验总结"
   ]
  },
  {
   "cell_type": "markdown",
   "metadata": {},
   "source": [
    "特征工程是比赛中最至关重要的的一块，特别的传统的比赛，大家的模型可能都差不多，调参带来的效果增幅是非常有限的，但特征工程的好坏往往会决定了最终的排名和成绩。\n",
    "\n",
    "特征工程的主要目的还是在于将数据转换为能更好地表示潜在问题的特征，从而提高机器学习的性能。比如，异常值处理是为了去除噪声，填补缺失值可以加入先验知识等。\n",
    "\n",
    "特征构造也属于特征工程的一部分，其目的是为了增强数据的表达。\n",
    "\n",
    "有些比赛的特征是匿名特征，这导致我们并不清楚特征相互直接的关联性，这时我们就只有单纯基于特征进行处理，比如装箱，groupby，agg 等这样一些操作进行一些特征统计，此外还可以对特征进行进一步的 log，exp 等变换，或者对多个特征进行四则运算（如上面我们算出的使用时长），多项式组合等然后进行筛选。由于特性的匿名性其实限制了很多对于特征的处理，当然有些时候用 NN 去提取一些特征也会达到意想不到的良好效果。\n",
    "\n",
    "对于知道特征含义（非匿名）的特征工程，特别是在工业类型比赛中，会基于信号处理，频域提取，丰度，偏度等构建更为有实际意义的特征，这就是结合背景的特征构建，在推荐系统中也是这样的，各种类型点击率统计，各时段统计，加用户属性的统计等等，这样一种特征构建往往要深入分析背后的业务逻辑或者说物理原理，从而才能更好的找到 magic。\n",
    "\n",
    "当然特征工程其实是和模型结合在一起的，这就是为什么要为 LR NN 做分桶和特征归一化的原因，而对于特征的处理效果和特征重要性等往往要通过模型来验证。\n",
    "\n",
    "总的来说，特征工程是一个入门简单，但想精通非常难的一件事。"
   ]
  },
  {
   "cell_type": "markdown",
   "metadata": {},
   "source": [
    "## Task 3-特征工程 END.\n",
    "\n",
    "\n",
    "---参考 By: 阿泽\n",
    "\n",
    "    PS：复旦大学计算机研究生\n",
    "    知乎：阿泽 https://www.zhihu.com/people/is-aze（主要面向初学者的知识整理）\n",
    "\n",
    "\n",
    "关于Datawhale：\n",
    "\n",
    "> Datawhale是一个专注于数据科学与AI领域的开源组织，汇集了众多领域院校和知名企业的优秀学习者，聚合了一群有开源精神和探索精神的团队成员。Datawhale 以“for the learner，和学习者一起成长”为愿景，鼓励真实地展现自我、开放包容、互信互助、敢于试错和勇于担当。同时 Datawhale 用开源的理念去探索开源内容、开源学习和开源方案，赋能人才培养，助力人才成长，建立起人与人，人与知识，人与企业和人与未来的联结。\n",
    "\n",
    "本次数据挖掘路径学习，专题知识将在天池分享，详情可关注Datawhale：\n",
    "\n",
    "![](http://jupter-oss.oss-cn-hangzhou.aliyuncs.com/public/files/image/1095279172547/1584432602983_kAxAvgQpG2.jpg) \n",
    "\n"
   ]
  },
  {
   "cell_type": "code",
   "execution_count": null,
   "metadata": {},
   "outputs": [],
   "source": []
  }
 ],
 "metadata": {
  "kernelspec": {
   "display_name": "Python 3",
   "language": "python",
   "name": "python3"
  },
  "language_info": {
   "codemirror_mode": {
    "name": "ipython",
    "version": 3
   },
   "file_extension": ".py",
   "mimetype": "text/x-python",
   "name": "python",
   "nbconvert_exporter": "python",
   "pygments_lexer": "ipython3",
   "version": "3.7.6"
  }
 },
 "nbformat": 4,
 "nbformat_minor": 2
}
